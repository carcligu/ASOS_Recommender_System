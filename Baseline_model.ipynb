{
  "nbformat": 4,
  "nbformat_minor": 0,
  "metadata": {
    "kernelspec": {
      "display_name": "Python 3",
      "language": "python",
      "name": "python3"
    },
    "language_info": {
      "codemirror_mode": {
        "name": "ipython",
        "version": 3
      },
      "file_extension": ".py",
      "mimetype": "text/x-python",
      "name": "python",
      "nbconvert_exporter": "python",
      "pygments_lexer": "ipython3",
      "version": "3.7.1"
    },
    "colab": {
      "name": "DSF-ASOS_Build_and_Deploy_a_Recommender_in_3_Hours.ipynb",
      "provenance": []
    },
    "accelerator": "GPU"
  },
  "cells": [
    {
      "cell_type": "markdown",
      "metadata": {
        "id": "p5TNAl0gqBru"
      },
      "source": [
        "# Data Science Festival x ASOS\n",
        "## Build and Deploy a Recommender System in 3 Hours."
      ]
    },
    {
      "cell_type": "markdown",
      "metadata": {
        "id": "ooIENnDvqBrv"
      },
      "source": [
        "# Imports"
      ]
    },
    {
      "cell_type": "code",
      "metadata": {
        "id": "haG2j8BLqBrv"
      },
      "source": [
        "import numpy as np\n",
        "import pandas as pd\n",
        "import tensorflow as tf\n",
        "import os"
      ],
      "execution_count": 1,
      "outputs": []
    },
    {
      "cell_type": "markdown",
      "metadata": {
        "id": "rek3aqVmqBrv"
      },
      "source": [
        "# Import training data"
      ]
    },
    {
      "cell_type": "code",
      "metadata": {
        "id": "g0UE_JS5qBrv"
      },
      "source": [
        "train = pd.read_parquet(\"https://raw.githubusercontent.com/ASOS/dsf2020/main/dsf_asos_train_with_alphanumeric_dummy_ids.parquet\")\n",
        "valid = pd.read_parquet(\"https://raw.githubusercontent.com/ASOS/dsf2020/main/dsf_asos_valid_with_alphanumeric_dummy_ids.parquet\")\n",
        "dummy_users = pd.read_csv(\"https://raw.githubusercontent.com/ASOS/dsf2020/main/dsf_asos_dummy_users_with_alphanumeric_dummy_ids.csv\", header=None).values.flatten().astype(str)\n",
        "products = pd.read_csv(\"https://raw.githubusercontent.com/ASOS/dsf2020/main/dsf_asos_productIds.csv\", header=None).values.flatten().astype(int)"
      ],
      "execution_count": 2,
      "outputs": []
    },
    {
      "cell_type": "code",
      "metadata": {
        "colab": {
          "base_uri": "https://localhost:8080/",
          "height": 204
        },
        "id": "OfEYCsaXqi5C",
        "outputId": "3a69bc30-51ab-4575-91b9-e7ebe2aef829"
      },
      "source": [
        "train.head()"
      ],
      "execution_count": 3,
      "outputs": [
        {
          "output_type": "execute_result",
          "data": {
            "text/html": [
              "<div>\n",
              "<style scoped>\n",
              "    .dataframe tbody tr th:only-of-type {\n",
              "        vertical-align: middle;\n",
              "    }\n",
              "\n",
              "    .dataframe tbody tr th {\n",
              "        vertical-align: top;\n",
              "    }\n",
              "\n",
              "    .dataframe thead th {\n",
              "        text-align: right;\n",
              "    }\n",
              "</style>\n",
              "<table border=\"1\" class=\"dataframe\">\n",
              "  <thead>\n",
              "    <tr style=\"text-align: right;\">\n",
              "      <th></th>\n",
              "      <th>dummyUserId</th>\n",
              "      <th>productId</th>\n",
              "    </tr>\n",
              "  </thead>\n",
              "  <tbody>\n",
              "    <tr>\n",
              "      <th>0</th>\n",
              "      <td>b'PIXcm7Ru5KmntCy0yA1K'</td>\n",
              "      <td>10524048</td>\n",
              "    </tr>\n",
              "    <tr>\n",
              "      <th>1</th>\n",
              "      <td>b'd0RILFB1hUzNSINMY4Ow'</td>\n",
              "      <td>9137713</td>\n",
              "    </tr>\n",
              "    <tr>\n",
              "      <th>2</th>\n",
              "      <td>b'Ebax7lyhnKRm4xeRlWW2'</td>\n",
              "      <td>5808602</td>\n",
              "    </tr>\n",
              "    <tr>\n",
              "      <th>3</th>\n",
              "      <td>b'vtigDw2h2vxKt0sJpEeU'</td>\n",
              "      <td>10548272</td>\n",
              "    </tr>\n",
              "    <tr>\n",
              "      <th>4</th>\n",
              "      <td>b'r4GfiEaUGxziyjX0PyU6'</td>\n",
              "      <td>10988173</td>\n",
              "    </tr>\n",
              "  </tbody>\n",
              "</table>\n",
              "</div>"
            ],
            "text/plain": [
              "               dummyUserId  productId\n",
              "0  b'PIXcm7Ru5KmntCy0yA1K'   10524048\n",
              "1  b'd0RILFB1hUzNSINMY4Ow'    9137713\n",
              "2  b'Ebax7lyhnKRm4xeRlWW2'    5808602\n",
              "3  b'vtigDw2h2vxKt0sJpEeU'   10548272\n",
              "4  b'r4GfiEaUGxziyjX0PyU6'   10988173"
            ]
          },
          "metadata": {
            "tags": []
          },
          "execution_count": 3
        }
      ]
    },
    {
      "cell_type": "code",
      "metadata": {
        "colab": {
          "base_uri": "https://localhost:8080/",
          "height": 204
        },
        "id": "0Br_9_O-qoq3",
        "outputId": "275f11a3-6e6c-4e63-b822-d6a4135ca46b"
      },
      "source": [
        "valid.head()"
      ],
      "execution_count": 4,
      "outputs": [
        {
          "output_type": "execute_result",
          "data": {
            "text/html": [
              "<div>\n",
              "<style scoped>\n",
              "    .dataframe tbody tr th:only-of-type {\n",
              "        vertical-align: middle;\n",
              "    }\n",
              "\n",
              "    .dataframe tbody tr th {\n",
              "        vertical-align: top;\n",
              "    }\n",
              "\n",
              "    .dataframe thead th {\n",
              "        text-align: right;\n",
              "    }\n",
              "</style>\n",
              "<table border=\"1\" class=\"dataframe\">\n",
              "  <thead>\n",
              "    <tr style=\"text-align: right;\">\n",
              "      <th></th>\n",
              "      <th>dummyUserId</th>\n",
              "      <th>productId</th>\n",
              "    </tr>\n",
              "  </thead>\n",
              "  <tbody>\n",
              "    <tr>\n",
              "      <th>0</th>\n",
              "      <td>b'I4Yc5Ztur3UNwY5SdvDh'</td>\n",
              "      <td>10093853</td>\n",
              "    </tr>\n",
              "    <tr>\n",
              "      <th>1</th>\n",
              "      <td>b'nhWgcxEVY7jQ3MvvNxWL'</td>\n",
              "      <td>12306408</td>\n",
              "    </tr>\n",
              "    <tr>\n",
              "      <th>2</th>\n",
              "      <td>b'3vriQXKwG095rvR1MSrz'</td>\n",
              "      <td>11858310</td>\n",
              "    </tr>\n",
              "    <tr>\n",
              "      <th>3</th>\n",
              "      <td>b'MA8KmOxkGd1JQ42GXDGO'</td>\n",
              "      <td>10072124</td>\n",
              "    </tr>\n",
              "    <tr>\n",
              "      <th>4</th>\n",
              "      <td>b'vax7VgJnswdiC8iHZSCi'</td>\n",
              "      <td>10596405</td>\n",
              "    </tr>\n",
              "  </tbody>\n",
              "</table>\n",
              "</div>"
            ],
            "text/plain": [
              "               dummyUserId  productId\n",
              "0  b'I4Yc5Ztur3UNwY5SdvDh'   10093853\n",
              "1  b'nhWgcxEVY7jQ3MvvNxWL'   12306408\n",
              "2  b'3vriQXKwG095rvR1MSrz'   11858310\n",
              "3  b'MA8KmOxkGd1JQ42GXDGO'   10072124\n",
              "4  b'vax7VgJnswdiC8iHZSCi'   10596405"
            ]
          },
          "metadata": {
            "tags": []
          },
          "execution_count": 4
        }
      ]
    },
    {
      "cell_type": "code",
      "metadata": {
        "colab": {
          "base_uri": "https://localhost:8080/"
        },
        "id": "uZNXXYsfqspp",
        "outputId": "80f6fc44-d32d-4d9b-ee3c-64de902c3e83"
      },
      "source": [
        "dummy_users"
      ],
      "execution_count": 5,
      "outputs": [
        {
          "output_type": "execute_result",
          "data": {
            "text/plain": [
              "array(['pmfkU4BNZhmtLgJQwJ7x', 'UDRRwOlzlWVbu7H8YCCi',\n",
              "       'QHGAef0TI6dhn0wTogvW', ..., 'lcORJ5hemOZc1iGo9z7k',\n",
              "       '5CqDquDAszqJp27P7AL8', 'SSPNYxJMfuKhoe1dg24m'], dtype='<U20')"
            ]
          },
          "metadata": {
            "tags": []
          },
          "execution_count": 5
        }
      ]
    },
    {
      "cell_type": "code",
      "metadata": {
        "colab": {
          "base_uri": "https://localhost:8080/"
        },
        "id": "HNWJ03SJqzBm",
        "outputId": "06531166-72c8-46e5-a704-7f8f8ee7c884"
      },
      "source": [
        "products"
      ],
      "execution_count": 7,
      "outputs": [
        {
          "output_type": "execute_result",
          "data": {
            "text/plain": [
              "array([ 8650774,  9306139,  9961521, ..., 12058614, 12058615, 11927550])"
            ]
          },
          "metadata": {
            "tags": []
          },
          "execution_count": 7
        }
      ]
    },
    {
      "cell_type": "markdown",
      "metadata": {
        "id": "eVwhwMxaq4Zj"
      },
      "source": [
        "You can check this product vising: asos.com/prd/'product number'"
      ]
    },
    {
      "cell_type": "markdown",
      "metadata": {
        "id": "1bj9g5XrqBrv"
      },
      "source": [
        "# The briefest intro to tf"
      ]
    },
    {
      "cell_type": "markdown",
      "metadata": {
        "id": "eqhDkcIpqBrv"
      },
      "source": [
        "Tensors"
      ]
    },
    {
      "cell_type": "code",
      "metadata": {
        "colab": {
          "base_uri": "https://localhost:8080/"
        },
        "id": "DCtwg0VOqBrv",
        "outputId": "138dcb7c-6d36-400b-809f-8bea8c0b2692"
      },
      "source": [
        "x = tf.constant([1,2,3,4])\n",
        "x"
      ],
      "execution_count": 15,
      "outputs": [
        {
          "output_type": "execute_result",
          "data": {
            "text/plain": [
              "<tf.Tensor: shape=(4,), dtype=int32, numpy=array([1, 2, 3, 4], dtype=int32)>"
            ]
          },
          "metadata": {
            "tags": []
          },
          "execution_count": 15
        }
      ]
    },
    {
      "cell_type": "code",
      "metadata": {
        "colab": {
          "base_uri": "https://localhost:8080/"
        },
        "id": "DcgBqziyrrGm",
        "outputId": "14bf568f-d16d-4915-9a8a-7527fbf6c5b7"
      },
      "source": [
        "tf.math.square(x)"
      ],
      "execution_count": 11,
      "outputs": [
        {
          "output_type": "execute_result",
          "data": {
            "text/plain": [
              "<tf.Tensor: shape=(4,), dtype=int32, numpy=array([ 1,  4,  9, 16], dtype=int32)>"
            ]
          },
          "metadata": {
            "tags": []
          },
          "execution_count": 11
        }
      ]
    },
    {
      "cell_type": "markdown",
      "metadata": {
        "id": "1yA8cVOxsnKI"
      },
      "source": [
        "The first great contribution of tf is the ability to process information in paralel."
      ]
    },
    {
      "cell_type": "code",
      "metadata": {
        "colab": {
          "base_uri": "https://localhost:8080/"
        },
        "id": "U1TLZNter6rG",
        "outputId": "a4338fc3-9d36-48ea-c3ab-f343e6083b6e"
      },
      "source": [
        "tf.constant([[1,2,3],[4,5,6]])"
      ],
      "execution_count": 12,
      "outputs": [
        {
          "output_type": "execute_result",
          "data": {
            "text/plain": [
              "<tf.Tensor: shape=(2, 3), dtype=int32, numpy=\n",
              "array([[1, 2, 3],\n",
              "       [4, 5, 6]], dtype=int32)>"
            ]
          },
          "metadata": {
            "tags": []
          },
          "execution_count": 12
        }
      ]
    },
    {
      "cell_type": "code",
      "metadata": {
        "colab": {
          "base_uri": "https://localhost:8080/"
        },
        "id": "IOvbaG1RsKHe",
        "outputId": "ea5048b1-5f9b-4282-9a8f-879e1d188271"
      },
      "source": [
        "x = tf.Variable([1,2,3,4,5], dtype=tf.float32)\n",
        "x"
      ],
      "execution_count": 17,
      "outputs": [
        {
          "output_type": "execute_result",
          "data": {
            "text/plain": [
              "<tf.Variable 'Variable:0' shape=(5,) dtype=float32, numpy=array([1., 2., 3., 4., 5.], dtype=float32)>"
            ]
          },
          "metadata": {
            "tags": []
          },
          "execution_count": 17
        }
      ]
    },
    {
      "cell_type": "markdown",
      "metadata": {
        "id": "z45swJkaseV7"
      },
      "source": [
        "The second greatest contribution of tensorflow is the abiliti to track gradiends"
      ]
    },
    {
      "cell_type": "markdown",
      "metadata": {
        "id": "pswrx8OIqBrv"
      },
      "source": [
        "Gradients\n",
        "\n",
        "(We won´t usually use this notation)"
      ]
    },
    {
      "cell_type": "code",
      "metadata": {
        "id": "NjZ3Z6dAqBrv"
      },
      "source": [
        "with tf.GradientTape() as tape:\n",
        "  y = tf.math.square(x)"
      ],
      "execution_count": 23,
      "outputs": []
    },
    {
      "cell_type": "code",
      "metadata": {
        "colab": {
          "base_uri": "https://localhost:8080/"
        },
        "id": "CJx3wYLKtEwI",
        "outputId": "24b89d04-ecce-44a4-c475-ec6ff774635a"
      },
      "source": [
        "y"
      ],
      "execution_count": 24,
      "outputs": [
        {
          "output_type": "execute_result",
          "data": {
            "text/plain": [
              "<tf.Tensor: shape=(5,), dtype=float32, numpy=array([ 1.,  4.,  9., 16., 25.], dtype=float32)>"
            ]
          },
          "metadata": {
            "tags": []
          },
          "execution_count": 24
        }
      ]
    },
    {
      "cell_type": "code",
      "metadata": {
        "colab": {
          "base_uri": "https://localhost:8080/"
        },
        "id": "tHNd-TxitS0V",
        "outputId": "f1bcde7e-2147-40fe-c854-c52e22760cfe"
      },
      "source": [
        "dy_dx = tape.gradient(y, x)\n",
        "dy_dx"
      ],
      "execution_count": 25,
      "outputs": [
        {
          "output_type": "execute_result",
          "data": {
            "text/plain": [
              "<tf.Tensor: shape=(5,), dtype=float32, numpy=array([ 2.,  4.,  6.,  8., 10.], dtype=float32)>"
            ]
          },
          "metadata": {
            "tags": []
          },
          "execution_count": 25
        }
      ]
    },
    {
      "cell_type": "markdown",
      "metadata": {
        "id": "Qt_-RrTwqBrv"
      },
      "source": [
        "Multiply and add tensors"
      ]
    },
    {
      "cell_type": "code",
      "metadata": {
        "id": "zHP1mI4-tSB8"
      },
      "source": [
        ""
      ],
      "execution_count": null,
      "outputs": []
    },
    {
      "cell_type": "code",
      "metadata": {
        "id": "_K1JPlttqBrv"
      },
      "source": [
        "x = tf.constant([[1,2,3]], dtype=tf.float32)\n",
        "Y = tf.constant([[1,2,3, 4], [1,2,3,4], [1,2,3,4]], dtype=tf.float32)"
      ],
      "execution_count": 26,
      "outputs": []
    },
    {
      "cell_type": "code",
      "metadata": {
        "colab": {
          "base_uri": "https://localhost:8080/"
        },
        "id": "GyupXtiSqBrv",
        "outputId": "cc8600a3-7fdf-4b37-c105-65483efafa84"
      },
      "source": [
        "tf.matmul(x, Y)"
      ],
      "execution_count": 28,
      "outputs": [
        {
          "output_type": "execute_result",
          "data": {
            "text/plain": [
              "<tf.Tensor: shape=(1, 4), dtype=float32, numpy=array([[ 6., 12., 18., 24.]], dtype=float32)>"
            ]
          },
          "metadata": {
            "tags": []
          },
          "execution_count": 28
        }
      ]
    },
    {
      "cell_type": "code",
      "metadata": {
        "id": "WjPO9yjSqBrw"
      },
      "source": [
        "z = tf.constant([10, 11, 12, 13], dtype=tf.float32)"
      ],
      "execution_count": 30,
      "outputs": []
    },
    {
      "cell_type": "markdown",
      "metadata": {
        "id": "0_1pNi-oqBrw"
      },
      "source": [
        "This operation is very common in deep learning, so it has been abstracted:"
      ]
    },
    {
      "cell_type": "code",
      "metadata": {
        "colab": {
          "base_uri": "https://localhost:8080/"
        },
        "id": "Y_qwJ2aZqBrw",
        "outputId": "265b1d09-89be-419a-8084-c752f428d006"
      },
      "source": [
        "tf.matmul(x, Y) + z"
      ],
      "execution_count": 31,
      "outputs": [
        {
          "output_type": "execute_result",
          "data": {
            "text/plain": [
              "<tf.Tensor: shape=(1, 4), dtype=float32, numpy=array([[16., 23., 30., 37.]], dtype=float32)>"
            ]
          },
          "metadata": {
            "tags": []
          },
          "execution_count": 31
        }
      ]
    },
    {
      "cell_type": "markdown",
      "metadata": {
        "id": "n-ldEgg2qBrw"
      },
      "source": [
        "You can choose to apply a function to each value in the output"
      ]
    },
    {
      "cell_type": "code",
      "metadata": {
        "id": "mLK9A820qBrw"
      },
      "source": [
        "dl1 = tf.keras.layers.Dense(4, use_bias=True, weights = [Y, z])"
      ],
      "execution_count": 32,
      "outputs": []
    },
    {
      "cell_type": "code",
      "metadata": {
        "colab": {
          "base_uri": "https://localhost:8080/"
        },
        "id": "wS3AcheXvJqJ",
        "outputId": "d180be8b-647a-4650-d30b-a00fb6c278e5"
      },
      "source": [
        "dl1(x)"
      ],
      "execution_count": 33,
      "outputs": [
        {
          "output_type": "execute_result",
          "data": {
            "text/plain": [
              "<tf.Tensor: shape=(1, 4), dtype=float32, numpy=array([[16., 23., 30., 37.]], dtype=float32)>"
            ]
          },
          "metadata": {
            "tags": []
          },
          "execution_count": 33
        }
      ]
    },
    {
      "cell_type": "code",
      "metadata": {
        "id": "FZ7OVLqLvOJG"
      },
      "source": [
        "dl2 = tf.keras.layers.Dense(4, use_bias=True, weights = [Y, z], activation = lambda x: x+1)"
      ],
      "execution_count": 34,
      "outputs": []
    },
    {
      "cell_type": "code",
      "metadata": {
        "colab": {
          "base_uri": "https://localhost:8080/"
        },
        "id": "nbnhoxGpvWeZ",
        "outputId": "ff23aaa2-9eed-446d-c81c-65c87ba29fa5"
      },
      "source": [
        "dl2(x)"
      ],
      "execution_count": 35,
      "outputs": [
        {
          "output_type": "execute_result",
          "data": {
            "text/plain": [
              "<tf.Tensor: shape=(1, 4), dtype=float32, numpy=array([[17., 24., 31., 38.]], dtype=float32)>"
            ]
          },
          "metadata": {
            "tags": []
          },
          "execution_count": 35
        }
      ]
    },
    {
      "cell_type": "markdown",
      "metadata": {
        "id": "_KHBFOn8qBrw"
      },
      "source": [
        "We can put different layers together in a sequence:"
      ]
    },
    {
      "cell_type": "code",
      "metadata": {
        "id": "_6th3vzYqBrw"
      },
      "source": [
        "dl3 = tf.keras.layers.Dense(1, use_bias=False, \\\n",
        "                             weights=[tf.constant([[0], [1], [0], [1]], \\\n",
        "                                                  dtype=tf.float32)])"
      ],
      "execution_count": 36,
      "outputs": []
    },
    {
      "cell_type": "code",
      "metadata": {
        "colab": {
          "base_uri": "https://localhost:8080/"
        },
        "id": "yYx36jMKqBrw",
        "outputId": "60d01078-3767-4839-9a00-2ec90e2f175a"
      },
      "source": [
        "x_b = dl2(x)\n",
        "x_b"
      ],
      "execution_count": 37,
      "outputs": [
        {
          "output_type": "execute_result",
          "data": {
            "text/plain": [
              "<tf.Tensor: shape=(1, 4), dtype=float32, numpy=array([[17., 24., 31., 38.]], dtype=float32)>"
            ]
          },
          "metadata": {
            "tags": []
          },
          "execution_count": 37
        }
      ]
    },
    {
      "cell_type": "code",
      "metadata": {
        "colab": {
          "base_uri": "https://localhost:8080/"
        },
        "id": "l2FE26FEvyeO",
        "outputId": "b023e277-5809-4d75-9579-b31689444e00"
      },
      "source": [
        "dl3(x_b)"
      ],
      "execution_count": 39,
      "outputs": [
        {
          "output_type": "execute_result",
          "data": {
            "text/plain": [
              "<tf.Tensor: shape=(1, 1), dtype=float32, numpy=array([[62.]], dtype=float32)>"
            ]
          },
          "metadata": {
            "tags": []
          },
          "execution_count": 39
        }
      ]
    },
    {
      "cell_type": "markdown",
      "metadata": {
        "id": "faKyZ0GBqBrw"
      },
      "source": [
        "We can get more flexibility if you use tf.keras.model:"
      ]
    },
    {
      "cell_type": "code",
      "metadata": {
        "id": "W9zclLLhqBrw"
      },
      "source": [
        "class simple_model(tf.keras.Model):\n",
        "  def __init__(self):\n",
        "    super(simple_model, self).__init__()\n",
        "    self.dl2 = tf.keras.layers.Dense(4, use_bias=True, weights = [Y, z], activation = lambda x: x+1)\n",
        "    self.dl3 = tf.keras.layers.Dense(1, use_bias=False, \\\n",
        "                             weights=[tf.constant([[0], [1], [0], [1]], \\\n",
        "                                                  dtype=tf.float32)])\n",
        "  \n",
        "  def call(self, x):\n",
        "    x_b = self.dl2(x)\n",
        "    return self.dl3(x_b), x_b, x_b + 104"
      ],
      "execution_count": 43,
      "outputs": []
    },
    {
      "cell_type": "code",
      "metadata": {
        "colab": {
          "base_uri": "https://localhost:8080/"
        },
        "id": "Q1yRV5iCwa75",
        "outputId": "844b0a75-7a80-4b8d-9ffc-8e1502cd3d36"
      },
      "source": [
        "sm = simple_model()\n",
        "sm(x)"
      ],
      "execution_count": 44,
      "outputs": [
        {
          "output_type": "execute_result",
          "data": {
            "text/plain": [
              "(<tf.Tensor: shape=(1, 1), dtype=float32, numpy=array([[62.]], dtype=float32)>,\n",
              " <tf.Tensor: shape=(1, 4), dtype=float32, numpy=array([[17., 24., 31., 38.]], dtype=float32)>,\n",
              " <tf.Tensor: shape=(1, 4), dtype=float32, numpy=array([[121., 128., 135., 142.]], dtype=float32)>)"
            ]
          },
          "metadata": {
            "tags": []
          },
          "execution_count": 44
        }
      ]
    },
    {
      "cell_type": "markdown",
      "metadata": {
        "id": "GfuMvFrKqBrw"
      },
      "source": [
        "So far we have been setting the weights of the dense layers, but if we don't set the weights than weights get randomly chosen."
      ]
    },
    {
      "cell_type": "code",
      "metadata": {
        "colab": {
          "base_uri": "https://localhost:8080/"
        },
        "id": "9Imvrt5PqBrw",
        "outputId": "81678d9c-8472-4a8c-8d92-3fae1b0f6e1c"
      },
      "source": [
        "dl6 = tf.keras.layers.Dense(4, use_bias=True)\n",
        "dl6(x)"
      ],
      "execution_count": 45,
      "outputs": [
        {
          "output_type": "execute_result",
          "data": {
            "text/plain": [
              "<tf.Tensor: shape=(1, 4), dtype=float32, numpy=array([[-3.416037 ,  3.3947973, -3.6639075,  2.429174 ]], dtype=float32)>"
            ]
          },
          "metadata": {
            "tags": []
          },
          "execution_count": 45
        }
      ]
    },
    {
      "cell_type": "code",
      "metadata": {
        "colab": {
          "base_uri": "https://localhost:8080/"
        },
        "id": "y9gsKnY2qBrw",
        "outputId": "12f8401c-797b-4403-d7fe-a147fcc3d80a"
      },
      "source": [
        "dl6.get_weights()"
      ],
      "execution_count": 46,
      "outputs": [
        {
          "output_type": "execute_result",
          "data": {
            "text/plain": [
              "[array([[-0.8504924 ,  0.16819346, -0.09807462, -0.27803534],\n",
              "        [-0.08776003,  0.58277917, -0.76496553,  0.48036933],\n",
              "        [-0.7966749 ,  0.6870152 , -0.6786339 ,  0.5821569 ]],\n",
              "       dtype=float32), array([0., 0., 0., 0.], dtype=float32)]"
            ]
          },
          "metadata": {
            "tags": []
          },
          "execution_count": 46
        }
      ]
    },
    {
      "cell_type": "markdown",
      "metadata": {
        "id": "_55aZZoXqBrw"
      },
      "source": [
        "# Define a Recommender Model"
      ]
    },
    {
      "cell_type": "markdown",
      "metadata": {
        "id": "kvMxZub7qBrx"
      },
      "source": [
        "The embedding layer gives a list of random numbers for each user and each product."
      ]
    },
    {
      "cell_type": "code",
      "metadata": {
        "id": "OOc2dz_jqBrx"
      },
      "source": [
        "embed1 = tf.keras.layers.Embedding(5, 8)"
      ],
      "execution_count": 48,
      "outputs": []
    },
    {
      "cell_type": "code",
      "metadata": {
        "colab": {
          "base_uri": "https://localhost:8080/"
        },
        "id": "BSDRFTCax_QP",
        "outputId": "3ea08317-05db-4e94-daf5-c3ca28bd2e0f"
      },
      "source": [
        "embed1(2)"
      ],
      "execution_count": 51,
      "outputs": [
        {
          "output_type": "execute_result",
          "data": {
            "text/plain": [
              "<tf.Tensor: shape=(8,), dtype=float32, numpy=\n",
              "array([ 0.04098612, -0.00338467, -0.01981864,  0.02555584,  0.03008887,\n",
              "       -0.01583308, -0.03667592, -0.00386257], dtype=float32)>"
            ]
          },
          "metadata": {
            "tags": []
          },
          "execution_count": 51
        }
      ]
    },
    {
      "cell_type": "code",
      "metadata": {
        "colab": {
          "base_uri": "https://localhost:8080/"
        },
        "id": "eREKSrHfx-_s",
        "outputId": "d9738d9b-7160-47dd-c44b-da18b0a5fe4d"
      },
      "source": [
        "embed1.get_weights()"
      ],
      "execution_count": 52,
      "outputs": [
        {
          "output_type": "execute_result",
          "data": {
            "text/plain": [
              "[array([[ 0.04421851, -0.00542061, -0.03804218,  0.03482567, -0.0005324 ,\n",
              "         -0.00920575,  0.00887649, -0.02722143],\n",
              "        [-0.01628969, -0.03299286,  0.03481543, -0.04852385, -0.04668379,\n",
              "          0.00818229, -0.01548814, -0.00963731],\n",
              "        [ 0.04098612, -0.00338467, -0.01981864,  0.02555584,  0.03008887,\n",
              "         -0.01583308, -0.03667592, -0.00386257],\n",
              "        [ 0.00307351,  0.02731453,  0.0056811 ,  0.01556709, -0.00425903,\n",
              "         -0.0099046 ,  0.00051346,  0.03168214],\n",
              "        [-0.00430452,  0.01493876,  0.02956978,  0.01346907,  0.00946451,\n",
              "         -0.03383627,  0.02937515,  0.02745849]], dtype=float32)]"
            ]
          },
          "metadata": {
            "tags": []
          },
          "execution_count": 52
        }
      ]
    },
    {
      "cell_type": "markdown",
      "metadata": {
        "id": "apJjm88gqBrx"
      },
      "source": [
        "Scores can be found using the dot product."
      ]
    },
    {
      "cell_type": "code",
      "metadata": {
        "id": "ifbti4H9xTcZ"
      },
      "source": [
        "# create a embedding layer of users, with 6 (or any other arbitrary numbers) random numbers for each user\n",
        "dummy_user_embedding = tf.keras.layers.Embedding(len(dummy_users), 6)"
      ],
      "execution_count": 55,
      "outputs": []
    },
    {
      "cell_type": "code",
      "metadata": {
        "id": "gjGSQBn_qBrx"
      },
      "source": [
        "# create a embedding layer of users, with 6 (or any other arbitrary numbers) random numbers for each user\n",
        "product_embedding = tf.keras.layers.Embedding(len(products), 6)"
      ],
      "execution_count": 57,
      "outputs": []
    },
    {
      "cell_type": "code",
      "metadata": {
        "colab": {
          "base_uri": "https://localhost:8080/"
        },
        "id": "W7eDFs8Az8qX",
        "outputId": "c28ea47d-89ad-47ac-d214-af5d6efea3e5"
      },
      "source": [
        "# we can multiply tensors, given the axes, 0 = rows\n",
        "tf.tensordot(dummy_user_embedding(1), product_embedding(99), axes = [[0], [0]])\n",
        "\n",
        "# what we have just calculated is the score for one product and one user"
      ],
      "execution_count": 63,
      "outputs": [
        {
          "output_type": "execute_result",
          "data": {
            "text/plain": [
              "<tf.Tensor: shape=(), dtype=float32, numpy=0.00032884686>"
            ]
          },
          "metadata": {
            "tags": []
          },
          "execution_count": 63
        }
      ]
    },
    {
      "cell_type": "markdown",
      "metadata": {
        "id": "OZnP3722qBrx"
      },
      "source": [
        "We can score multiple products at the same time, which is what we need to create a ranking."
      ]
    },
    {
      "cell_type": "code",
      "metadata": {
        "colab": {
          "base_uri": "https://localhost:8080/"
        },
        "id": "IITUYzGHqBrx",
        "outputId": "d0fb1260-e5a2-4a2e-9b90-7aaa5b61e92f"
      },
      "source": [
        "example_products = tf.constant([1, 77, 104, 2062])\n",
        "product_embedding(example_products)"
      ],
      "execution_count": 64,
      "outputs": [
        {
          "output_type": "execute_result",
          "data": {
            "text/plain": [
              "<tf.Tensor: shape=(4, 6), dtype=float32, numpy=\n",
              "array([[-0.01204646,  0.04826254, -0.04468935,  0.0375728 , -0.00027695,\n",
              "        -0.04086324],\n",
              "       [-0.04465527,  0.0067886 ,  0.0405813 , -0.01867063, -0.02017661,\n",
              "         0.03765037],\n",
              "       [-0.01314152,  0.04632732,  0.01604011, -0.00838994, -0.00933259,\n",
              "         0.0485196 ],\n",
              "       [ 0.03802104,  0.01117244,  0.03411022,  0.03009326, -0.02034249,\n",
              "        -0.03795927]], dtype=float32)>"
            ]
          },
          "metadata": {
            "tags": []
          },
          "execution_count": 64
        }
      ]
    },
    {
      "cell_type": "code",
      "metadata": {
        "colab": {
          "base_uri": "https://localhost:8080/"
        },
        "id": "4df3Y3kX0CU_",
        "outputId": "49b04622-d550-41fd-ceb9-88ec196baece"
      },
      "source": [
        "#here we are multiplying a given user (row axis), with products (for each product we can to multiply on the columns axes)\n",
        "tf.tensordot(dummy_user_embedding(1), product_embedding(example_products), axes = [[0], [1]])"
      ],
      "execution_count": 67,
      "outputs": [
        {
          "output_type": "execute_result",
          "data": {
            "text/plain": [
              "<tf.Tensor: shape=(4,), dtype=float32, numpy=array([-0.00218456,  0.00432109,  0.00259641,  0.00136114], dtype=float32)>"
            ]
          },
          "metadata": {
            "tags": []
          },
          "execution_count": 67
        }
      ]
    },
    {
      "cell_type": "code",
      "metadata": {
        "id": "h70O4NVl0qcM"
      },
      "source": [
        "#the result of the previous operation is a score for the 4 products given, what we want now is to rank them"
      ],
      "execution_count": null,
      "outputs": []
    },
    {
      "cell_type": "markdown",
      "metadata": {
        "id": "znlu7ADpqBrx"
      },
      "source": [
        "And we can score multiple users for multiple products which we will need to do if we are to train quickly."
      ]
    },
    {
      "cell_type": "code",
      "metadata": {
        "id": "IwxHMWiX0puM"
      },
      "source": [
        ""
      ],
      "execution_count": null,
      "outputs": []
    },
    {
      "cell_type": "code",
      "metadata": {
        "id": "5zed4C54qBrx"
      },
      "source": [
        ""
      ],
      "execution_count": 63,
      "outputs": []
    },
    {
      "cell_type": "markdown",
      "metadata": {
        "id": "wvq5F50qqBrx"
      },
      "source": [
        "But we need to map product ids to embedding ids."
      ]
    },
    {
      "cell_type": "code",
      "metadata": {
        "colab": {
          "base_uri": "https://localhost:8080/"
        },
        "id": "B_jl7WFf1bue",
        "outputId": "9df169b5-4aeb-4e5e-a14c-4c3d26bf6a43"
      },
      "source": [
        "products"
      ],
      "execution_count": 70,
      "outputs": [
        {
          "output_type": "execute_result",
          "data": {
            "text/plain": [
              "array([ 8650774,  9306139,  9961521, ..., 12058614, 12058615, 11927550])"
            ]
          },
          "metadata": {
            "tags": []
          },
          "execution_count": 70
        }
      ]
    },
    {
      "cell_type": "code",
      "metadata": {
        "id": "5_eg_JeGqBrx"
      },
      "source": [
        "product_table = tf.lookup.StaticHashTable(\n",
        "    tf.lookup.KeyValueTensorInitializer(tf.constant(products, dtype=tf.int32), \n",
        "                                        range(len(products))), -1)"
      ],
      "execution_count": 72,
      "outputs": []
    },
    {
      "cell_type": "code",
      "metadata": {
        "colab": {
          "base_uri": "https://localhost:8080/"
        },
        "id": "hmUsvsUh2IEn",
        "outputId": "74665b91-fe0b-4e27-d2e7-060a74511562"
      },
      "source": [
        "product_table.lookup(tf.constant([12058614]))"
      ],
      "execution_count": 74,
      "outputs": [
        {
          "output_type": "execute_result",
          "data": {
            "text/plain": [
              "<tf.Tensor: shape=(1,), dtype=int32, numpy=array([29693], dtype=int32)>"
            ]
          },
          "metadata": {
            "tags": []
          },
          "execution_count": 74
        }
      ]
    },
    {
      "cell_type": "markdown",
      "metadata": {
        "id": "vpiqShwHqBrx"
      },
      "source": [
        "Let's put those two things together"
      ]
    },
    {
      "cell_type": "code",
      "metadata": {
        "id": "vc3tCGZzqBrx"
      },
      "source": [
        "class SimpleRecommender(tf.keras.Model):\n",
        "    def __init__(self, dummy_users, products, length_of_embedding):\n",
        "        super(SimpleRecommender, self).__init__()\n",
        "        self.products = tf.constant(products, dtype=tf.int32)\n",
        "        self.dummy_users = tf.constant(dummy_users, dtype=tf.string)\n",
        "        # create this dictionary lookup tables, that matches each user/product to an index\n",
        "        self.dummy_user_table = tf.lookup.StaticHashTable(tf.lookup.KeyValueTensorInitializer(self.dummy_users, range(len(dummy_users))), -1)\n",
        "        self.product_table = tf.lookup.StaticHashTable(tf.lookup.KeyValueTensorInitializer(self.products, range(len(products))), -1)\n",
        "        \n",
        "        #for each index, creat random numbers\n",
        "        self.user_embedding = tf.keras.layers.Embedding(len(dummy_users), length_of_embedding)\n",
        "        self.product_embedding = tf.keras.layers.Embedding(len(products), length_of_embedding)\n",
        "\n",
        "        #create a layer of abstraction to get the scores\n",
        "        self.dot = tf.keras.layers.Dot(axes=-1) #axes -1 means getting the last axes for each input\n",
        "\n",
        "        \n",
        "    def call(self, inputs):\n",
        "        user = inputs[0]\n",
        "        products = inputs[1]\n",
        "\n",
        "        #get the index of the user/product provided as inputs\n",
        "        user_embedding_index = self.dummy_user_table.lookup(user)\n",
        "        product_embedding_index = self.product_table.lookup(products)\n",
        "\n",
        "        #get the weights given the index\n",
        "        user_embedding_values = self.user_embedding(user_embedding_index)\n",
        "        product_embedding_values = self.product_embedding(product_embedding_index)\n",
        "\n",
        "        #get the scores\n",
        "        return tf.squeeze(self.dot([user_embedding_values, product_embedding_values]), 1)\n",
        "\n",
        "\n",
        "    \n",
        "    @tf.function\n",
        "    def call_item_item(self, product):\n",
        "        product_x = self.product_table.lookup(product)\n",
        "        pe = tf.expand_dims(self.product_embedding(product_x), 0)\n",
        "        \n",
        "        all_pe = tf.expand_dims(self.product_embedding.embeddings, 0)#note this only works if the layer has been built!\n",
        "        scores = tf.reshape(self.dot([pe, all_pe]), [-1])\n",
        "        \n",
        "        top_scores, top_indices = tf.math.top_k(scores, k=100)\n",
        "        top_ids = tf.gather(self.products, top_indices)\n",
        "        return top_ids, top_scores"
      ],
      "execution_count": 144,
      "outputs": []
    },
    {
      "cell_type": "code",
      "metadata": {
        "colab": {
          "base_uri": "https://localhost:8080/"
        },
        "id": "RJ9l8Vkn48sm",
        "outputId": "8bafef25-1403-4d00-a993-a5db23049673"
      },
      "source": [
        "dummy_users"
      ],
      "execution_count": 145,
      "outputs": [
        {
          "output_type": "execute_result",
          "data": {
            "text/plain": [
              "array(['pmfkU4BNZhmtLgJQwJ7x', 'UDRRwOlzlWVbu7H8YCCi',\n",
              "       'QHGAef0TI6dhn0wTogvW', ..., 'lcORJ5hemOZc1iGo9z7k',\n",
              "       '5CqDquDAszqJp27P7AL8', 'SSPNYxJMfuKhoe1dg24m'], dtype='<U20')"
            ]
          },
          "metadata": {
            "tags": []
          },
          "execution_count": 145
        }
      ]
    },
    {
      "cell_type": "code",
      "metadata": {
        "colab": {
          "base_uri": "https://localhost:8080/"
        },
        "id": "mI5aACQE5LCq",
        "outputId": "596c5b4d-626e-425e-e9c0-c322c6b68ac3"
      },
      "source": [
        "products"
      ],
      "execution_count": 146,
      "outputs": [
        {
          "output_type": "execute_result",
          "data": {
            "text/plain": [
              "array([ 8650774,  9306139,  9961521, ..., 12058614, 12058615, 11927550])"
            ]
          },
          "metadata": {
            "tags": []
          },
          "execution_count": 146
        }
      ]
    },
    {
      "cell_type": "code",
      "metadata": {
        "colab": {
          "base_uri": "https://localhost:8080/"
        },
        "id": "HtKlOGMx4xHh",
        "outputId": "5a17bacb-2d90-482d-af85-0fed4aa55ef2"
      },
      "source": [
        "sr1 = SimpleRecommender(dummy_users, products, 15)\n",
        "# I am introducing 2 users, and getting the score:\n",
        "# for the first user: first 3 products\n",
        "# for the second user: last 3 products\n",
        "sr1([tf.constant([['pmfkU4BNZhmtLgJQwJ7x'], ['UDRRwOlzlWVbu7H8YCCi']]), tf.constant([[8650774,  9306139,  9961521], [12058614, 12058615, 11927550]])])"
      ],
      "execution_count": 147,
      "outputs": [
        {
          "output_type": "execute_result",
          "data": {
            "text/plain": [
              "<tf.Tensor: shape=(2, 3), dtype=float32, numpy=\n",
              "array([[-0.00284287, -0.00420284, -0.00070727],\n",
              "       [ 0.00227325,  0.00311452, -0.00174852]], dtype=float32)>"
            ]
          },
          "metadata": {
            "tags": []
          },
          "execution_count": 147
        }
      ]
    },
    {
      "cell_type": "markdown",
      "metadata": {
        "id": "6b_v7cSAqBrx"
      },
      "source": [
        "# Creating a dataset"
      ]
    },
    {
      "cell_type": "markdown",
      "metadata": {
        "id": "T2V4tav9qBrx"
      },
      "source": [
        "First create a tf.data.Dataset from the user purchase pairs."
      ]
    },
    {
      "cell_type": "code",
      "metadata": {
        "colab": {
          "base_uri": "https://localhost:8080/"
        },
        "id": "BM2fEMqwqBrx",
        "outputId": "2740bfea-ec09-4b62-fcdf-befb75597c6b"
      },
      "source": [
        "dummy_user_tensor = tf.constant(train[[\"dummyUserId\"]].values, dtype=tf.string)\n",
        "product_tensor = tf.constant(train[[\"productId\"]].values, dtype=tf.int32)\n",
        "\n",
        "dataset = tf.data.Dataset.from_tensor_slices((dummy_user_tensor, product_tensor))\n",
        "for x, y in dataset:\n",
        "    print(x)\n",
        "    print(y)\n",
        "    break"
      ],
      "execution_count": 117,
      "outputs": [
        {
          "output_type": "stream",
          "text": [
            "tf.Tensor([b'PIXcm7Ru5KmntCy0yA1K'], shape=(1,), dtype=string)\n",
            "tf.Tensor([10524048], shape=(1,), dtype=int32)\n"
          ],
          "name": "stdout"
        }
      ]
    },
    {
      "cell_type": "code",
      "metadata": {
        "colab": {
          "base_uri": "https://localhost:8080/"
        },
        "id": "IN2_4Syr88cn",
        "outputId": "356688e0-c49b-4d96-84e1-f7303742d5ae"
      },
      "source": [
        "products"
      ],
      "execution_count": 91,
      "outputs": [
        {
          "output_type": "execute_result",
          "data": {
            "text/plain": [
              "array([ 8650774,  9306139,  9961521, ..., 12058614, 12058615, 11927550])"
            ]
          },
          "metadata": {
            "tags": []
          },
          "execution_count": 91
        }
      ]
    },
    {
      "cell_type": "code",
      "metadata": {
        "colab": {
          "base_uri": "https://localhost:8080/"
        },
        "id": "flp1izO38_1w",
        "outputId": "082097ad-5fb9-4488-9d46-9e07ef3f9876"
      },
      "source": [
        "random_negatives_indexs = tf.random.uniform((7, ), minval = 0, maxval = len(products), dtype=tf.int32)\n",
        "random_negatives_indexs"
      ],
      "execution_count": 96,
      "outputs": [
        {
          "output_type": "execute_result",
          "data": {
            "text/plain": [
              "<tf.Tensor: shape=(7,), dtype=int32, numpy=array([ 8036, 19413,  4599,  1623, 15305, 24074,  7575], dtype=int32)>"
            ]
          },
          "metadata": {
            "tags": []
          },
          "execution_count": 96
        }
      ]
    },
    {
      "cell_type": "code",
      "metadata": {
        "colab": {
          "base_uri": "https://localhost:8080/"
        },
        "id": "dwCoKhGN9j5P",
        "outputId": "c38c01c7-0e30-4483-ccbd-bd376341fbf1"
      },
      "source": [
        "# we can now obtain a list of random products that have not been purchased by a customer\n",
        "tf.gather(products, random_negatives_indexs)"
      ],
      "execution_count": 97,
      "outputs": [
        {
          "output_type": "execute_result",
          "data": {
            "text/plain": [
              "<tf.Tensor: shape=(7,), dtype=int64, numpy=\n",
              "array([11832145,  9130879,  6966879, 10755196, 12782213, 12166478,\n",
              "       10256831])>"
            ]
          },
          "metadata": {
            "tags": []
          },
          "execution_count": 97
        }
      ]
    },
    {
      "cell_type": "code",
      "metadata": {
        "id": "_VrIY_m096t3"
      },
      "source": [
        "# 'dataset' holds products that users has purchased. We want now to extend this dataset including products that the user has not purchased"
      ],
      "execution_count": null,
      "outputs": []
    },
    {
      "cell_type": "markdown",
      "metadata": {
        "id": "7-S6eWb0qBrx"
      },
      "source": [
        "For each purchase let's sample a number of products that the user did not purchase. Then the model can score each of the products and we will know we are doing a good job if the product with the highest score is the product that the user actually purchased.\n",
        "\n",
        "We can do this using dataset.map"
      ]
    },
    {
      "cell_type": "code",
      "metadata": {
        "id": "uTtNvcbTqBrx"
      },
      "source": [
        "class Mapper():\n",
        "    \n",
        "    def __init__(self, possible_products, num_negative_products):\n",
        "        self.num_possible_products = len(possible_products)\n",
        "        self.possible_products_tensor = tf.constant(possible_products, dtype=tf.int32)\n",
        "        \n",
        "        self.num_negative_products = num_negative_products\n",
        "        self.y = tf.one_hot(0, num_negative_products + 1)\n",
        "    \n",
        "    def __call__(self, user, product):\n",
        "        random_negatives_indexs = tf.random.uniform((self.num_negative_products, ), minval = 0, maxval = self.num_possible_products, dtype=tf.int32)\n",
        "        negatives = tf.gather(self.possible_products_tensor, random_negatives_indexs)\n",
        "        candidates = tf.concat([product, negatives], axis = 0)\n",
        "\n",
        "        return (user, candidates), self.y"
      ],
      "execution_count": 136,
      "outputs": []
    },
    {
      "cell_type": "code",
      "metadata": {
        "colab": {
          "base_uri": "https://localhost:8080/"
        },
        "id": "po7vRHSh_jFG",
        "outputId": "3c6393bb-435d-432a-abcc-44e86aebd939"
      },
      "source": [
        "products"
      ],
      "execution_count": 137,
      "outputs": [
        {
          "output_type": "execute_result",
          "data": {
            "text/plain": [
              "array([ 8650774,  9306139,  9961521, ..., 12058614, 12058615, 11927550])"
            ]
          },
          "metadata": {
            "tags": []
          },
          "execution_count": 137
        }
      ]
    },
    {
      "cell_type": "code",
      "metadata": {
        "colab": {
          "base_uri": "https://localhost:8080/"
        },
        "id": "7ClzGQRg_mQh",
        "outputId": "41908b36-db4d-4783-cd47-1a676d55ab9e"
      },
      "source": [
        "dataset"
      ],
      "execution_count": 138,
      "outputs": [
        {
          "output_type": "execute_result",
          "data": {
            "text/plain": [
              "<MapDataset shapes: (((1,), (29706,)), (11,)), types: ((tf.string, tf.int32), tf.float32)>"
            ]
          },
          "metadata": {
            "tags": []
          },
          "execution_count": 138
        }
      ]
    },
    {
      "cell_type": "code",
      "metadata": {
        "colab": {
          "base_uri": "https://localhost:8080/"
        },
        "id": "56dlKk59_RQp",
        "outputId": "5b65be6a-a573-4d9e-b033-ca389bc777df"
      },
      "source": [
        "dataset = tf.data.Dataset.from_tensor_slices((dummy_user_tensor, product_tensor)).map(Mapper(products, 10))\n",
        "for (u, c), y in dataset:\n",
        "  print(u)\n",
        "  print(c)\n",
        "  print(y)\n",
        "  break"
      ],
      "execution_count": 139,
      "outputs": [
        {
          "output_type": "stream",
          "text": [
            "tf.Tensor([b'PIXcm7Ru5KmntCy0yA1K'], shape=(1,), dtype=string)\n",
            "tf.Tensor(\n",
            "[10524048 12514400 10262907  8823173 10840450  7870290 11765968 10349948\n",
            " 10338995  9386044 11701198], shape=(11,), dtype=int32)\n",
            "tf.Tensor([1. 0. 0. 0. 0. 0. 0. 0. 0. 0. 0.], shape=(11,), dtype=float32)\n"
          ],
          "name": "stdout"
        }
      ]
    },
    {
      "cell_type": "markdown",
      "metadata": {
        "id": "_W49QTvMqBrx"
      },
      "source": [
        "Let's bring the steps together to define a function which creates a dataset "
      ]
    },
    {
      "cell_type": "code",
      "metadata": {
        "id": "rKTq6A83qBrx"
      },
      "source": [
        "def get_dataset(df, products, num_negative_products):\n",
        "  dummy_user_tensor = tf.constant(df[[\"dummyUserId\"]].values, dtype=tf.string)\n",
        "  product_tensor = tf.constant(df[[\"productId\"]].values, dtype=tf.int32)\n",
        "\n",
        "  dataset = tf.data.Dataset.from_tensor_slices((dummy_user_tensor, product_tensor))\n",
        "  dataset =  dataset.map(Mapper(products, num_negative_products))\n",
        "  \n",
        "  #we don´t want to perform the learning for each user, so:\n",
        "  dataset = dataset.batch(1024)\n",
        "  return dataset"
      ],
      "execution_count": 142,
      "outputs": []
    },
    {
      "cell_type": "code",
      "metadata": {
        "colab": {
          "base_uri": "https://localhost:8080/"
        },
        "id": "Eij1Kuh_BwLo",
        "outputId": "e687fae8-7a22-4015-e72c-5c2e0b9c3477"
      },
      "source": [
        "for (u,c), y in get_dataset(train, products, 4):\n",
        "  print(u)\n",
        "  print(c)\n",
        "  print(y)\n",
        "  break"
      ],
      "execution_count": 143,
      "outputs": [
        {
          "output_type": "stream",
          "text": [
            "tf.Tensor(\n",
            "[[b'PIXcm7Ru5KmntCy0yA1K']\n",
            " [b'd0RILFB1hUzNSINMY4Ow']\n",
            " [b'Ebax7lyhnKRm4xeRlWW2']\n",
            " ...\n",
            " [b'xuX9n8PHfSR0AP3UZ8ar']\n",
            " [b'iNnxsPFfOa9884fMjVPJ']\n",
            " [b'aD8Mn12im8lFPzXAY41P']], shape=(1024, 1), dtype=string)\n",
            "tf.Tensor(\n",
            "[[10524048 10892423 11597767  8606883 11228540]\n",
            " [ 9137713 11981868 11678202 12020960 11001860]\n",
            " [ 5808602 10131884 12076723 11754632 11760580]\n",
            " ...\n",
            " [11541336 12210627 10694141  9679607 12346969]\n",
            " [ 7779232 11679278  9996449  8903844 10011217]\n",
            " [ 4941259 10703724  9355015 12651403  9329335]], shape=(1024, 5), dtype=int32)\n",
            "tf.Tensor(\n",
            "[[1. 0. 0. 0. 0.]\n",
            " [1. 0. 0. 0. 0.]\n",
            " [1. 0. 0. 0. 0.]\n",
            " ...\n",
            " [1. 0. 0. 0. 0.]\n",
            " [1. 0. 0. 0. 0.]\n",
            " [1. 0. 0. 0. 0.]], shape=(1024, 5), dtype=float32)\n"
          ],
          "name": "stdout"
        }
      ]
    },
    {
      "cell_type": "markdown",
      "metadata": {
        "id": "xurrsw8bqBrx"
      },
      "source": [
        "# Train a model"
      ]
    },
    {
      "cell_type": "markdown",
      "metadata": {
        "id": "577jM737qBry"
      },
      "source": [
        "We need to compile a model, set the loss and create an evaluation metric. Then we need to train the model."
      ]
    },
    {
      "cell_type": "code",
      "metadata": {
        "colab": {
          "base_uri": "https://localhost:8080/"
        },
        "id": "MErVZN3SqBry",
        "outputId": "c0773320-2735-4b60-c4d1-754860a294f6"
      },
      "source": [
        "model = SimpleRecommender(dummy_users, products, 15)\n",
        "model.compile(loss = tf.keras.losses.CategoricalCrossentropy(from_logits=True), \n",
        "              optimizer = tf.keras.optimizers.SGD(learning_rate=100.), \n",
        "              metrics = [tf.keras.metrics.CategoricalAccuracy()])\n",
        "\n",
        "model.fit(get_dataset(train, products, 100), validation_data = get_dataset(valid, products, 100), epochs=5)\n"
      ],
      "execution_count": 148,
      "outputs": [
        {
          "output_type": "stream",
          "text": [
            "Epoch 1/5\n",
            "162/162 [==============================] - 8s 51ms/step - loss: 4.6151 - categorical_accuracy: 0.0134 - val_loss: 4.6151 - val_categorical_accuracy: 0.0181\n",
            "Epoch 2/5\n",
            "162/162 [==============================] - 8s 50ms/step - loss: 4.6119 - categorical_accuracy: 0.0837 - val_loss: 4.6145 - val_categorical_accuracy: 0.0482\n",
            "Epoch 3/5\n",
            "162/162 [==============================] - 8s 50ms/step - loss: 4.5971 - categorical_accuracy: 0.1910 - val_loss: 4.6028 - val_categorical_accuracy: 0.0782\n",
            "Epoch 4/5\n",
            "162/162 [==============================] - 8s 50ms/step - loss: 4.5168 - categorical_accuracy: 0.2375 - val_loss: 4.5358 - val_categorical_accuracy: 0.1033\n",
            "Epoch 5/5\n",
            "162/162 [==============================] - 8s 50ms/step - loss: 4.2776 - categorical_accuracy: 0.2378 - val_loss: 4.3791 - val_categorical_accuracy: 0.1151\n"
          ],
          "name": "stdout"
        },
        {
          "output_type": "execute_result",
          "data": {
            "text/plain": [
              "<tensorflow.python.keras.callbacks.History at 0x7f3860fb79e8>"
            ]
          },
          "metadata": {
            "tags": []
          },
          "execution_count": 148
        }
      ]
    },
    {
      "cell_type": "markdown",
      "metadata": {
        "id": "KRpMkaxNqBry"
      },
      "source": [
        "Let's do a manual check on whether the model is any good."
      ]
    },
    {
      "cell_type": "code",
      "metadata": {
        "id": "sb6e75voqBry"
      },
      "source": [
        "test_product = 11698965"
      ],
      "execution_count": 149,
      "outputs": []
    },
    {
      "cell_type": "code",
      "metadata": {
        "colab": {
          "base_uri": "https://localhost:8080/"
        },
        "id": "fZr_cxK2qBry",
        "outputId": "4d64cb05-fd74-4671-a3c0-1f13d9baac52"
      },
      "source": [
        "print(\"Recs for item {}: {}\".format(test_product, model.call_item_item(tf.constant(test_product, dtype=tf.int32))))"
      ],
      "execution_count": 150,
      "outputs": [
        {
          "output_type": "stream",
          "text": [
            "Recs for item 11698965: (<tf.Tensor: shape=(100,), dtype=int32, numpy=\n",
            "array([ 6848491, 10360535, 10555920,  9099144, 12297404,  9572596,\n",
            "       11113894, 10234617, 10789497, 10689723,  8907440, 10901238,\n",
            "       11264058, 10102320, 12936554, 11923040, 12115410,  9361601,\n",
            "        9844845, 10653500, 10326627, 11043826, 10959740, 10677145,\n",
            "       10576225, 10294086, 11954508, 10252562, 10534339, 10251977,\n",
            "        9791231,  9919566, 10766415, 10597379, 10667027, 10252928,\n",
            "       10434319, 11051697, 12377471, 10881816, 11713447,  8670921,\n",
            "        7329586, 10327862, 11613065, 13194153,  9489449, 11209140,\n",
            "       11974770, 11228544, 10374100, 11698190, 10672170, 12721595,\n",
            "       11296236, 11392796, 10725626, 11710889, 10490474, 11023025,\n",
            "       11440869, 11832342,  8853625, 11230891,  9668689,  9179306,\n",
            "       12064580, 12184081, 10818311, 10561562, 10951701, 12083964,\n",
            "       10722923,  9071435,  8177027, 10460173,  9432360, 11888643,\n",
            "       11015921, 10379216,  9190937, 11993803, 12018593, 11235579,\n",
            "       11202321, 10796010, 12823159,  9944306, 10002609, 11913035,\n",
            "       13041073, 10853923,  9501416, 10087341, 12360397, 10123841,\n",
            "       10214326, 10210657, 10812525,  9572922], dtype=int32)>, <tf.Tensor: shape=(100,), dtype=float32, numpy=\n",
            "array([0.46479025, 0.16373761, 0.14786077, 0.13799204, 0.12571758,\n",
            "       0.11835284, 0.11304234, 0.10756637, 0.10035763, 0.09808998,\n",
            "       0.09358859, 0.08746418, 0.08608764, 0.08218823, 0.08013757,\n",
            "       0.0784839 , 0.07844245, 0.077396  , 0.0746756 , 0.07462489,\n",
            "       0.07429087, 0.07407678, 0.07371344, 0.07347765, 0.07332936,\n",
            "       0.07300021, 0.07158869, 0.07068413, 0.07049078, 0.06973154,\n",
            "       0.06972149, 0.06970263, 0.06934144, 0.06923235, 0.06913741,\n",
            "       0.06852715, 0.06830433, 0.06816071, 0.06795283, 0.06742956,\n",
            "       0.06658808, 0.06648138, 0.0664767 , 0.06634934, 0.06628055,\n",
            "       0.06617817, 0.06576698, 0.0657655 , 0.06566524, 0.06549097,\n",
            "       0.06525701, 0.06513578, 0.06506408, 0.0649807 , 0.06472801,\n",
            "       0.0644986 , 0.06398974, 0.06377394, 0.06372003, 0.0636609 ,\n",
            "       0.0627951 , 0.0625713 , 0.06244789, 0.06238221, 0.06205779,\n",
            "       0.06185852, 0.06178073, 0.06141255, 0.06125315, 0.06089791,\n",
            "       0.06045093, 0.06043175, 0.06041604, 0.06027305, 0.06024412,\n",
            "       0.05981828, 0.05980632, 0.05970185, 0.05946894, 0.05939954,\n",
            "       0.05933638, 0.05933069, 0.05924653, 0.05911287, 0.05907099,\n",
            "       0.05905882, 0.05903541, 0.05881231, 0.05875728, 0.05875038,\n",
            "       0.05861392, 0.05843932, 0.05843768, 0.05826406, 0.05804184,\n",
            "       0.05796056, 0.05782632, 0.05777431, 0.05776246, 0.05776199],\n",
            "      dtype=float32)>)\n"
          ],
          "name": "stdout"
        }
      ]
    },
    {
      "cell_type": "markdown",
      "metadata": {
        "id": "g0gGcm6zqBry"
      },
      "source": [
        "# Save the model"
      ]
    },
    {
      "cell_type": "code",
      "metadata": {
        "id": "UY03zoDXqBry"
      },
      "source": [
        "model_path = \"models/recommender/1\""
      ],
      "execution_count": null,
      "outputs": []
    },
    {
      "cell_type": "code",
      "metadata": {
        "id": "iSjgrxYgqBry"
      },
      "source": [
        "inpute_signature = tf.TensorSpec(shape=(), dtype=tf.int32)"
      ],
      "execution_count": null,
      "outputs": []
    },
    {
      "cell_type": "code",
      "metadata": {
        "id": "icomg883qBry"
      },
      "source": [
        "signatures = { 'call_item_item': r1.call_item_item.get_concrete_function(inpute_signature)}"
      ],
      "execution_count": null,
      "outputs": []
    },
    {
      "cell_type": "code",
      "metadata": {
        "id": "isl_gZi8qBry"
      },
      "source": [
        ""
      ],
      "execution_count": null,
      "outputs": []
    },
    {
      "cell_type": "code",
      "metadata": {
        "id": "A6ww2WOKqBry"
      },
      "source": [
        "imported_model = tf.saved_model.load('models/recommeder/1')\n",
        "list(imported_model.signatures.keys())"
      ],
      "execution_count": null,
      "outputs": []
    },
    {
      "cell_type": "code",
      "metadata": {
        "id": "Gd8DzqCWqBry"
      },
      "source": [
        "imported_model.signatures['call_item_item'](tf.constant([14844847]))"
      ],
      "execution_count": null,
      "outputs": []
    },
    {
      "cell_type": "code",
      "metadata": {
        "id": "mFZjutHMqBry"
      },
      "source": [
        "os.makedirs(\"dummy/0\")\n",
        "tf.saved_model.save(model, 'dummy/0')    \n",
        "imported = tf.saved_model.load(\"dummy/0\")\n",
        "imported(tf.constant([14844847]))"
      ],
      "execution_count": null,
      "outputs": []
    },
    {
      "cell_type": "code",
      "metadata": {
        "id": "Lj5I_CasqBry"
      },
      "source": [
        "os.makedirs(\"dummy/1\")\n",
        "tf.saved_model.save(model, 'dummy/1',\n",
        "                    model.call_item_item.get_concrete_function(tf.TensorSpec(shape=(), dtype=tf.int32)))      \n",
        "list(imported_model.signatures.keys())"
      ],
      "execution_count": null,
      "outputs": []
    },
    {
      "cell_type": "code",
      "metadata": {
        "id": "9snaUwnGqBry"
      },
      "source": [
        "imported_model.signatures['serving_default'](tf.constant([14844847]))"
      ],
      "execution_count": null,
      "outputs": []
    },
    {
      "cell_type": "markdown",
      "metadata": {
        "id": "3asaObgOqBry"
      },
      "source": [
        "Zipping the saved model will make it easier to download."
      ]
    },
    {
      "cell_type": "code",
      "metadata": {
        "id": "czs6CDSvqBry"
      },
      "source": [
        "from zipfile import ZipFile\n",
        "import os\n",
        "# create a ZipFile object\n",
        "with ZipFile('recommender.zip', 'w') as zipObj:\n",
        "   # Iterate over all the files in directory\n",
        "    for folderName, subfolders, filenames in os.walk(\"models\"):\n",
        "        for filename in filenames:\n",
        "           #create complete filepath of file in directory\n",
        "           filePath = os.path.join(folderName, filename)\n",
        "           # Add file to zip\n",
        "           zipObj.write(filePath)"
      ],
      "execution_count": null,
      "outputs": []
    },
    {
      "cell_type": "code",
      "metadata": {
        "id": "7fUcppLTqBry"
      },
      "source": [
        ""
      ],
      "execution_count": null,
      "outputs": []
    }
  ]
}